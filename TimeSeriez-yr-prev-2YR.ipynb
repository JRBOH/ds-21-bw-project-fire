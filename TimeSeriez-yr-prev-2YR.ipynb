{
 "cells": [
  {
   "cell_type": "markdown",
   "metadata": {},
   "source": [
    "# IMPRT L|B"
   ]
  },
  {
   "cell_type": "code",
   "execution_count": 1,
   "metadata": {},
   "outputs": [],
   "source": [
    "from pdpbox.pdp import pdp_isolate, pdp_plot, pdp_interact, pdp_interact_plot\n",
    "from sklearn.ensemble import RandomForestRegressor\n",
    "from sklearn.linear_model import LinearRegression\n",
    "from sklearn.metrics import mean_absolute_error\n",
    "from sklearn.model_selection import RandomizedSearchCV\n",
    "from xgboost import XGBRegressor\n",
    "import matplotlib.pyplot as plt\n",
    "import numpy as np\n",
    "import pandas as pd\n",
    "import shap"
   ]
  },
  {
   "cell_type": "markdown",
   "metadata": {},
   "source": [
    "# D4T4"
   ]
  },
  {
   "cell_type": "code",
   "execution_count": 2,
   "metadata": {
    "scrolled": true
   },
   "outputs": [
    {
     "data": {
      "text/html": [
       "<div>\n",
       "<style scoped>\n",
       "    .dataframe tbody tr th:only-of-type {\n",
       "        vertical-align: middle;\n",
       "    }\n",
       "\n",
       "    .dataframe tbody tr th {\n",
       "        vertical-align: top;\n",
       "    }\n",
       "\n",
       "    .dataframe thead th {\n",
       "        text-align: right;\n",
       "    }\n",
       "</style>\n",
       "<table border=\"1\" class=\"dataframe\">\n",
       "  <thead>\n",
       "    <tr style=\"text-align: right;\">\n",
       "      <th></th>\n",
       "      <th>year</th>\n",
       "      <th>jan</th>\n",
       "      <th>feb</th>\n",
       "      <th>mar</th>\n",
       "      <th>apr</th>\n",
       "      <th>may</th>\n",
       "      <th>jun</th>\n",
       "      <th>jul</th>\n",
       "      <th>aug</th>\n",
       "      <th>sep</th>\n",
       "      <th>oct</th>\n",
       "      <th>nov</th>\n",
       "      <th>dec</th>\n",
       "    </tr>\n",
       "  </thead>\n",
       "  <tbody>\n",
       "    <tr>\n",
       "      <th>0</th>\n",
       "      <td>2003</td>\n",
       "      <td>13</td>\n",
       "      <td>12</td>\n",
       "      <td>92</td>\n",
       "      <td>66</td>\n",
       "      <td>44</td>\n",
       "      <td>13</td>\n",
       "      <td>255</td>\n",
       "      <td>29</td>\n",
       "      <td>92</td>\n",
       "      <td>89</td>\n",
       "      <td>12</td>\n",
       "      <td>7.0</td>\n",
       "    </tr>\n",
       "    <tr>\n",
       "      <th>1</th>\n",
       "      <td>2004</td>\n",
       "      <td>10</td>\n",
       "      <td>7</td>\n",
       "      <td>180</td>\n",
       "      <td>75</td>\n",
       "      <td>87</td>\n",
       "      <td>73</td>\n",
       "      <td>65</td>\n",
       "      <td>32</td>\n",
       "      <td>84</td>\n",
       "      <td>29</td>\n",
       "      <td>9</td>\n",
       "      <td>26.0</td>\n",
       "    </tr>\n",
       "    <tr>\n",
       "      <th>2</th>\n",
       "      <td>2005</td>\n",
       "      <td>11</td>\n",
       "      <td>43</td>\n",
       "      <td>107</td>\n",
       "      <td>95</td>\n",
       "      <td>122</td>\n",
       "      <td>30</td>\n",
       "      <td>172</td>\n",
       "      <td>30</td>\n",
       "      <td>54</td>\n",
       "      <td>41</td>\n",
       "      <td>43</td>\n",
       "      <td>20.0</td>\n",
       "    </tr>\n",
       "    <tr>\n",
       "      <th>3</th>\n",
       "      <td>2006</td>\n",
       "      <td>45</td>\n",
       "      <td>54</td>\n",
       "      <td>75</td>\n",
       "      <td>153</td>\n",
       "      <td>46</td>\n",
       "      <td>110</td>\n",
       "      <td>47</td>\n",
       "      <td>5</td>\n",
       "      <td>24</td>\n",
       "      <td>9</td>\n",
       "      <td>48</td>\n",
       "      <td>4.0</td>\n",
       "    </tr>\n",
       "    <tr>\n",
       "      <th>4</th>\n",
       "      <td>2007</td>\n",
       "      <td>6</td>\n",
       "      <td>4</td>\n",
       "      <td>58</td>\n",
       "      <td>89</td>\n",
       "      <td>59</td>\n",
       "      <td>60</td>\n",
       "      <td>30</td>\n",
       "      <td>26</td>\n",
       "      <td>75</td>\n",
       "      <td>121</td>\n",
       "      <td>100</td>\n",
       "      <td>17.0</td>\n",
       "    </tr>\n",
       "  </tbody>\n",
       "</table>\n",
       "</div>"
      ],
      "text/plain": [
       "   year  jan  feb  mar  apr  may  jun  jul  aug  sep  oct  nov   dec\n",
       "0  2003   13   12   92   66   44   13  255   29   92   89   12   7.0\n",
       "1  2004   10    7  180   75   87   73   65   32   84   29    9  26.0\n",
       "2  2005   11   43  107   95  122   30  172   30   54   41   43  20.0\n",
       "3  2006   45   54   75  153   46  110   47    5   24    9   48   4.0\n",
       "4  2007    6    4   58   89   59   60   30   26   75  121  100  17.0"
      ]
     },
     "execution_count": 2,
     "metadata": {},
     "output_type": "execute_result"
    }
   ],
   "source": [
    "df = pd.read_csv('C:/Users/i7/Documents/Git/D4T4/FIRE/timeseries/data/Month_Reg_CO.txt', \n",
    "                 header=1).drop(columns='area')\n",
    "df.columns = df.columns.str.replace(' ', '')\n",
    "df.head()"
   ]
  },
  {
   "cell_type": "markdown",
   "metadata": {},
   "source": [
    "# M3L_|_"
   ]
  },
  {
   "cell_type": "code",
   "execution_count": 3,
   "metadata": {},
   "outputs": [],
   "source": [
    "df_m = pd.melt (df, id_vars=['year'], value_vars=df.columns[1:], \n",
    "                var_name='month')\n",
    "df_m['date'] = df_m['year'].astype(str)+'-'+df_m['month']+'-01'"
   ]
  },
  {
   "cell_type": "code",
   "execution_count": 4,
   "metadata": {},
   "outputs": [
    {
     "data": {
      "text/html": [
       "<div>\n",
       "<style scoped>\n",
       "    .dataframe tbody tr th:only-of-type {\n",
       "        vertical-align: middle;\n",
       "    }\n",
       "\n",
       "    .dataframe tbody tr th {\n",
       "        vertical-align: top;\n",
       "    }\n",
       "\n",
       "    .dataframe thead th {\n",
       "        text-align: right;\n",
       "    }\n",
       "</style>\n",
       "<table border=\"1\" class=\"dataframe\">\n",
       "  <thead>\n",
       "    <tr style=\"text-align: right;\">\n",
       "      <th></th>\n",
       "      <th>year</th>\n",
       "      <th>month</th>\n",
       "      <th>value</th>\n",
       "      <th>date</th>\n",
       "    </tr>\n",
       "  </thead>\n",
       "  <tbody>\n",
       "    <tr>\n",
       "      <th>0</th>\n",
       "      <td>2003</td>\n",
       "      <td>jan</td>\n",
       "      <td>13.0</td>\n",
       "      <td>2003-jan-01</td>\n",
       "    </tr>\n",
       "    <tr>\n",
       "      <th>1</th>\n",
       "      <td>2004</td>\n",
       "      <td>jan</td>\n",
       "      <td>10.0</td>\n",
       "      <td>2004-jan-01</td>\n",
       "    </tr>\n",
       "    <tr>\n",
       "      <th>2</th>\n",
       "      <td>2005</td>\n",
       "      <td>jan</td>\n",
       "      <td>11.0</td>\n",
       "      <td>2005-jan-01</td>\n",
       "    </tr>\n",
       "    <tr>\n",
       "      <th>3</th>\n",
       "      <td>2006</td>\n",
       "      <td>jan</td>\n",
       "      <td>45.0</td>\n",
       "      <td>2006-jan-01</td>\n",
       "    </tr>\n",
       "    <tr>\n",
       "      <th>4</th>\n",
       "      <td>2007</td>\n",
       "      <td>jan</td>\n",
       "      <td>6.0</td>\n",
       "      <td>2007-jan-01</td>\n",
       "    </tr>\n",
       "  </tbody>\n",
       "</table>\n",
       "</div>"
      ],
      "text/plain": [
       "   year month  value         date\n",
       "0  2003   jan   13.0  2003-jan-01\n",
       "1  2004   jan   10.0  2004-jan-01\n",
       "2  2005   jan   11.0  2005-jan-01\n",
       "3  2006   jan   45.0  2006-jan-01\n",
       "4  2007   jan    6.0  2007-jan-01"
      ]
     },
     "execution_count": 4,
     "metadata": {},
     "output_type": "execute_result"
    }
   ],
   "source": [
    "df_m.head()"
   ]
  },
  {
   "cell_type": "code",
   "execution_count": 5,
   "metadata": {},
   "outputs": [],
   "source": [
    "df_i = (df_m.set_index(pd.to_datetime(df_m['date']))\n",
    ".drop(columns=['year', 'month', 'date'])\n",
    ".sort_index())"
   ]
  },
  {
   "cell_type": "code",
   "execution_count": 6,
   "metadata": {
    "scrolled": true
   },
   "outputs": [
    {
     "data": {
      "text/html": [
       "<div>\n",
       "<style scoped>\n",
       "    .dataframe tbody tr th:only-of-type {\n",
       "        vertical-align: middle;\n",
       "    }\n",
       "\n",
       "    .dataframe tbody tr th {\n",
       "        vertical-align: top;\n",
       "    }\n",
       "\n",
       "    .dataframe thead th {\n",
       "        text-align: right;\n",
       "    }\n",
       "</style>\n",
       "<table border=\"1\" class=\"dataframe\">\n",
       "  <thead>\n",
       "    <tr style=\"text-align: right;\">\n",
       "      <th></th>\n",
       "      <th>value</th>\n",
       "    </tr>\n",
       "    <tr>\n",
       "      <th>date</th>\n",
       "      <th></th>\n",
       "    </tr>\n",
       "  </thead>\n",
       "  <tbody>\n",
       "    <tr>\n",
       "      <th>2003-01-01</th>\n",
       "      <td>13.0</td>\n",
       "    </tr>\n",
       "    <tr>\n",
       "      <th>2003-02-01</th>\n",
       "      <td>12.0</td>\n",
       "    </tr>\n",
       "    <tr>\n",
       "      <th>2003-03-01</th>\n",
       "      <td>92.0</td>\n",
       "    </tr>\n",
       "    <tr>\n",
       "      <th>2003-04-01</th>\n",
       "      <td>66.0</td>\n",
       "    </tr>\n",
       "    <tr>\n",
       "      <th>2003-05-01</th>\n",
       "      <td>44.0</td>\n",
       "    </tr>\n",
       "  </tbody>\n",
       "</table>\n",
       "</div>"
      ],
      "text/plain": [
       "            value\n",
       "date             \n",
       "2003-01-01   13.0\n",
       "2003-02-01   12.0\n",
       "2003-03-01   92.0\n",
       "2003-04-01   66.0\n",
       "2003-05-01   44.0"
      ]
     },
     "execution_count": 6,
     "metadata": {},
     "output_type": "execute_result"
    }
   ],
   "source": [
    "df_i.head()"
   ]
  },
  {
   "cell_type": "code",
   "execution_count": 7,
   "metadata": {},
   "outputs": [
    {
     "data": {
      "image/png": "[encoded data removed]",
      "text/plain": [
       "<Figure size 720x576 with 1 Axes>"
      ]
     },
     "metadata": {},
     "output_type": "display_data"
    }
   ],
   "source": [
    "plt.style.use('fivethirtyeight')\n",
    "fig, ax = plt.subplots(figsize=(10, 8))\n",
    "\n",
    "fig.set_facecolor('darkslateblue')\n",
    "ax.set_facecolor('black')\n",
    "\n",
    "ax.spines['left'].set_visible(False)\n",
    "ax.spines['right'].set_visible(False)\n",
    "ax.spines['top'].set_visible(False)\n",
    "ax.spines['bottom'].set_visible(False)\n",
    "\n",
    "ax.bar(df_i.index, df_i['value'], width=20, label='Fire Count per Month')\n",
    "\n",
    "ax.set_title(\"Total Number of Fires per Month, 2003-01 to 2020-10\", color='orange',\n",
    "            fontsize=(22), fontweight='bold')\n",
    "ax.set_xlabel('Year', color='orange', fontsize=(17), fontweight='bold')\n",
    "ax.set_ylabel('Fire Count', color='orange', fontsize=(17), fontweight='bold')\n",
    "\n",
    "ax.grid(b=True, color='lime', linestyle=(0, (1, 3)), linewidth=1.1)\n",
    "ax.legend()\n",
    "\n",
    "plt.show()"
   ]
  },
  {
   "cell_type": "markdown",
   "metadata": {},
   "source": [
    "# NGNR\n",
    "## Months before\n",
    " - Engineered features that take into account the previous month and the month before that to predict fire count in the next month."
   ]
  },
  {
   "cell_type": "code",
   "execution_count": 8,
   "metadata": {},
   "outputs": [],
   "source": [
    "df_i['target'] = df_i.shift(-1)\n",
    "df_i['1_mo_prev'] = df_i['value'].shift(1)\n",
    "df_i['2_mo_prev'] = df_i['1_mo_prev'].shift(1)\n",
    "df_i['month'] = df_i.index.month"
   ]
  },
  {
   "cell_type": "code",
   "execution_count": 9,
   "metadata": {},
   "outputs": [],
   "source": [
    "df_I = df_i[['month', 'target', 'value', '1_mo_prev', '2_mo_prev']].dropna()"
   ]
  },
  {
   "cell_type": "code",
   "execution_count": 10,
   "metadata": {},
   "outputs": [],
   "source": [
    "target = 'target'\n",
    "y = df_I['target']\n",
    "X = df_I.drop(columns=target)"
   ]
  },
  {
   "cell_type": "code",
   "execution_count": 11,
   "metadata": {},
   "outputs": [
    {
     "name": "stdout",
     "output_type": "stream",
     "text": [
      "169.60000000000002\n",
      "190.8\n"
     ]
    }
   ],
   "source": [
    "print(len(X) * 0.8)\n",
    "print(len(X) * 0.9)"
   ]
  },
  {
   "cell_type": "code",
   "execution_count": 12,
   "metadata": {},
   "outputs": [],
   "source": [
    "cutV = 170\n",
    "cutT = 191\n",
    "X_train, y_train = X.iloc[:cutV], y.iloc[:cutV]\n",
    "X_val, y_val = X.iloc[cutV : cutT], y.iloc[cutV : cutT]\n",
    "X_test, y_test = X.iloc[cutT:], y.iloc[cutT:]\n",
    "\n",
    "assert len(X_train) + len(X_val) + len(X_test) == len(X)"
   ]
  },
  {
   "cell_type": "markdown",
   "metadata": {},
   "source": [
    "# B4SL|N"
   ]
  },
  {
   "cell_type": "code",
   "execution_count": 13,
   "metadata": {},
   "outputs": [
    {
     "name": "stdout",
     "output_type": "stream",
     "text": [
      "75.31176470588235\n"
     ]
    }
   ],
   "source": [
    "y_t_mean = y_train.mean()\n",
    "print(y_t_mean)"
   ]
  },
  {
   "cell_type": "code",
   "execution_count": 14,
   "metadata": {},
   "outputs": [
    {
     "name": "stdout",
     "output_type": "stream",
     "text": [
      "Baseline MAE: 59.122491349480974\n"
     ]
    }
   ],
   "source": [
    "y_pred = [y_t_mean] * len(y_train)\n",
    "\n",
    "print('Baseline MAE:', mean_absolute_error(y_train, y_pred))"
   ]
  },
  {
   "cell_type": "markdown",
   "metadata": {},
   "source": [
    "# Models"
   ]
  },
  {
   "cell_type": "code",
   "execution_count": 15,
   "metadata": {},
   "outputs": [],
   "source": [
    "model_boo = XGBRegressor(random_state=17) # default n_estimators=100\n",
    "model_boo.fit(X_train, y_train)\n",
    "\n",
    "model_rf = RandomForestRegressor(random_state=23) #n_estimators=100\n",
    "model_rf.fit(X_train, y_train)\n",
    "\n",
    "model_lr = LinearRegression()\n",
    "model_lr.fit(X_train, y_train);"
   ]
  },
  {
   "cell_type": "code",
   "execution_count": 16,
   "metadata": {},
   "outputs": [
    {
     "name": "stdout",
     "output_type": "stream",
     "text": [
      "<class 'xgboost.sklearn.XGBRegressor'>\n",
      "Training MAE: 0.08360541427836699\n",
      "Validation MAE: 153.95223488126481\n",
      "\n",
      "<class 'sklearn.ensemble._forest.RandomForestRegressor'>\n",
      "Training MAE: 21.309470588235296\n",
      "Validation MAE: 141.73809523809527\n",
      "\n",
      "<class 'sklearn.linear_model._base.LinearRegression'>\n",
      "Training MAE: 56.25341139808951\n",
      "Validation MAE: 154.97116072652418\n",
      "\n"
     ]
    }
   ],
   "source": [
    "for model in [model_boo, model_rf, model_lr]:\n",
    "    print(type(model))\n",
    "    print('Training MAE:', mean_absolute_error(y_train, model.predict(X_train)))\n",
    "    print('Validation MAE:', mean_absolute_error(y_val, model.predict(X_val)))\n",
    "    print()"
   ]
  },
  {
   "cell_type": "code",
   "execution_count": 17,
   "metadata": {},
   "outputs": [],
   "source": [
    "params = {\n",
    "    'max_depth' : range(10, 510, 100),\n",
    "    'n_estimators' : range(10, 310, 50),\n",
    "    'max_samples' : np.arange(0, 1, 0.1)}"
   ]
  },
  {
   "cell_type": "code",
   "execution_count": 18,
   "metadata": {},
   "outputs": [],
   "source": [
    "pipeline = RandomForestRegressor(random_state=19,\n",
    "                                n_jobs=-1)\n",
    "\n",
    "model_search = RandomizedSearchCV(\n",
    "    pipeline,\n",
    "    param_distributions=params,\n",
    "    n_iter=20,\n",
    "    n_jobs=-1,\n",
    "    cv=5,\n",
    "    verbose=1\n",
    ")"
   ]
  },
  {
   "cell_type": "code",
   "execution_count": 19,
   "metadata": {
    "scrolled": false
   },
   "outputs": [
    {
     "name": "stdout",
     "output_type": "stream",
     "text": [
      "Fitting 5 folds for each of 20 candidates, totalling 100 fits\n"
     ]
    },
    {
     "name": "stderr",
     "output_type": "stream",
     "text": [
      "[Parallel(n_jobs=-1)]: Using backend LokyBackend with 8 concurrent workers.\n",
      "[Parallel(n_jobs=-1)]: Done  34 tasks      | elapsed:    4.3s\n",
      "[Parallel(n_jobs=-1)]: Done 100 out of 100 | elapsed:    7.0s finished\n"
     ]
    },
    {
     "data": {
      "text/plain": [
       "RandomizedSearchCV(cv=5,\n",
       "                   estimator=RandomForestRegressor(n_jobs=-1, random_state=19),\n",
       "                   n_iter=20, n_jobs=-1,\n",
       "                   param_distributions={'max_depth': range(10, 510, 100),\n",
       "                                        'max_samples': array([0. , 0.1, 0.2, 0.3, 0.4, 0.5, 0.6, 0.7, 0.8, 0.9]),\n",
       "                                        'n_estimators': range(10, 310, 50)},\n",
       "                   verbose=1)"
      ]
     },
     "execution_count": 19,
     "metadata": {},
     "output_type": "execute_result"
    }
   ],
   "source": [
    "model_search.fit(X_train, y_train)"
   ]
  },
  {
   "cell_type": "code",
   "execution_count": 20,
   "metadata": {},
   "outputs": [
    {
     "data": {
      "text/plain": [
       "-0.16453226525110615"
      ]
     },
     "execution_count": 20,
     "metadata": {},
     "output_type": "execute_result"
    }
   ],
   "source": [
    "# Mean cross-validated score of the best_estimator.\n",
    "model_search.best_score_"
   ]
  },
  {
   "cell_type": "code",
   "execution_count": 21,
   "metadata": {},
   "outputs": [
    {
     "data": {
      "text/plain": [
       "{'n_estimators': 210, 'max_samples': 0.1, 'max_depth': 410}"
      ]
     },
     "execution_count": 21,
     "metadata": {},
     "output_type": "execute_result"
    }
   ],
   "source": [
    "# Parameter setting that gave the best results on the hold out data.\n",
    "model_search.best_params_"
   ]
  },
  {
   "cell_type": "code",
   "execution_count": 22,
   "metadata": {},
   "outputs": [
    {
     "data": {
      "text/plain": [
       "RandomForestRegressor(max_depth=410, max_samples=0.1, n_estimators=16,\n",
       "                      random_state=23)"
      ]
     },
     "execution_count": 22,
     "metadata": {},
     "output_type": "execute_result"
    }
   ],
   "source": [
    "model_rf = RandomForestRegressor(random_state=23,\n",
    "                                n_estimators=16,\n",
    "                                max_samples=0.1,\n",
    "                                max_depth=410) #n_estimators=100\n",
    "model_rf.fit(X_train, y_train)"
   ]
  },
  {
   "cell_type": "code",
   "execution_count": 23,
   "metadata": {},
   "outputs": [
    {
     "data": {
      "text/plain": [
       "array([ 54.4375,  56.6875,  57.1875,  88.8125,  84.0625,  86.0625,\n",
       "       139.9375,  35.1875,  74.5   ,  51.5625, 127.9375,  83.125 ,\n",
       "       229.75  , 105.1875, 124.4375, 195.1875, 203.0625, 177.1875,\n",
       "       143.6875,  90.9375,  72.75  ])"
      ]
     },
     "execution_count": 23,
     "metadata": {},
     "output_type": "execute_result"
    }
   ],
   "source": [
    "model_rf.predict(X_val)"
   ]
  },
  {
   "cell_type": "code",
   "execution_count": 24,
   "metadata": {},
   "outputs": [
    {
     "data": {
      "text/plain": [
       "154.97116072652418"
      ]
     },
     "execution_count": 24,
     "metadata": {},
     "output_type": "execute_result"
    }
   ],
   "source": [
    "mean_absolute_error(y_val, model.predict(X_val))"
   ]
  },
  {
   "cell_type": "code",
   "execution_count": 25,
   "metadata": {
    "scrolled": true
   },
   "outputs": [
    {
     "data": {
      "text/plain": [
       "array([ 77.8125,  59.8125,  46.75  ,  53.375 ,  41.75  ,  42.1875,\n",
       "        39.5   ,  62.75  , 121.1875,  69.625 , 173.8125,  50.5   ,\n",
       "       149.375 ,  52.6875,  62.9375,  59.75  ,  61.9375,  50.75  ,\n",
       "        76.375 , 122.75  , 203.125 ])"
      ]
     },
     "execution_count": 25,
     "metadata": {},
     "output_type": "execute_result"
    }
   ],
   "source": [
    "model_rf.predict(X_test)"
   ]
  },
  {
   "cell_type": "code",
   "execution_count": 26,
   "metadata": {},
   "outputs": [
    {
     "data": {
      "text/plain": [
       "316.77434401363155"
      ]
     },
     "execution_count": 26,
     "metadata": {},
     "output_type": "execute_result"
    }
   ],
   "source": [
    "mean_absolute_error(y_test, model.predict(X_test))"
   ]
  },
  {
   "cell_type": "markdown",
   "metadata": {},
   "source": [
    "# NGNR\n",
    "## 1 Year"
   ]
  },
  {
   "cell_type": "code",
   "execution_count": 27,
   "metadata": {},
   "outputs": [],
   "source": [
    "df_i = (df_m.set_index(pd.to_datetime(df_m['date']))\n",
    ".drop(columns=['year', 'month', 'date'])\n",
    ".sort_index())"
   ]
  },
  {
   "cell_type": "code",
   "execution_count": 28,
   "metadata": {},
   "outputs": [],
   "source": [
    "df_i['target'] = df_i.shift(-1)\n",
    "df_i['12_mo_prev'] = df_i['value'].shift(12)\n",
    "df_i['month'] = df_i.index.month"
   ]
  },
  {
   "cell_type": "code",
   "execution_count": 29,
   "metadata": {},
   "outputs": [],
   "source": [
    "df_I = df_i[['month', 'target', 'value', '12_mo_prev']].dropna()"
   ]
  },
  {
   "cell_type": "code",
   "execution_count": 30,
   "metadata": {},
   "outputs": [],
   "source": [
    "target = 'target'\n",
    "y = df_I['target']\n",
    "X = df_I.drop(columns=target)"
   ]
  },
  {
   "cell_type": "code",
   "execution_count": 31,
   "metadata": {},
   "outputs": [
    {
     "name": "stdout",
     "output_type": "stream",
     "text": [
      "161.60000000000002\n",
      "181.8\n"
     ]
    }
   ],
   "source": [
    "print(len(X) * 0.8)\n",
    "print(len(X) * 0.9)"
   ]
  },
  {
   "cell_type": "code",
   "execution_count": 32,
   "metadata": {},
   "outputs": [],
   "source": [
    "cutV = 162\n",
    "cutT = 182\n",
    "X_train, y_train = X.iloc[:cutV], y.iloc[:cutV]\n",
    "X_val, y_val = X.iloc[cutV : cutT], y.iloc[cutV : cutT]\n",
    "X_test, y_test = X.iloc[cutT:], y.iloc[cutT:]\n",
    "\n",
    "assert len(X_train) + len(X_val) + len(X_test) == len(X)"
   ]
  },
  {
   "cell_type": "markdown",
   "metadata": {},
   "source": [
    "# B4SL|N"
   ]
  },
  {
   "cell_type": "code",
   "execution_count": 33,
   "metadata": {},
   "outputs": [
    {
     "name": "stdout",
     "output_type": "stream",
     "text": [
      "76.84567901234568\n"
     ]
    }
   ],
   "source": [
    "y_t_mean = y_train.mean()\n",
    "print(y_t_mean)"
   ]
  },
  {
   "cell_type": "code",
   "execution_count": 34,
   "metadata": {},
   "outputs": [
    {
     "name": "stdout",
     "output_type": "stream",
     "text": [
      "Baseline MAE: 59.908169486358794\n"
     ]
    }
   ],
   "source": [
    "y_pred = [y_t_mean] * len(y_train)\n",
    "\n",
    "print('Baseline MAE:', mean_absolute_error(y_train, y_pred))"
   ]
  },
  {
   "cell_type": "markdown",
   "metadata": {},
   "source": [
    "# Models"
   ]
  },
  {
   "cell_type": "code",
   "execution_count": 35,
   "metadata": {},
   "outputs": [],
   "source": [
    "model_boo = XGBRegressor(random_state=17) # default n_estimators=100\n",
    "model_boo.fit(X_train, y_train)\n",
    "\n",
    "model_rf = RandomForestRegressor(random_state=23) #n_estimators=100\n",
    "model_rf.fit(X_train, y_train)\n",
    "\n",
    "model_lr = LinearRegression()\n",
    "model_lr.fit(X_train, y_train);"
   ]
  },
  {
   "cell_type": "code",
   "execution_count": 36,
   "metadata": {},
   "outputs": [
    {
     "name": "stdout",
     "output_type": "stream",
     "text": [
      "<class 'xgboost.sklearn.XGBRegressor'>\n",
      "Training MAE: 0.11309710402547578\n",
      "Val MAE: 160.2012669146061\n",
      "\n",
      "<class 'sklearn.ensemble._forest.RandomForestRegressor'>\n",
      "Training MAE: 22.581419753086422\n",
      "Val MAE: 131.88449999999997\n",
      "\n",
      "<class 'sklearn.linear_model._base.LinearRegression'>\n",
      "Training MAE: 56.809381505441884\n",
      "Val MAE: 160.52547645252127\n",
      "\n"
     ]
    }
   ],
   "source": [
    "for model in [model_boo, model_rf, model_lr]:\n",
    "    print(type(model))\n",
    "    print('Training MAE:', mean_absolute_error(y_train, model.predict(X_train)))\n",
    "    print('Val MAE:', mean_absolute_error(y_val, model.predict(X_val)))\n",
    "    print()"
   ]
  },
  {
   "cell_type": "code",
   "execution_count": 37,
   "metadata": {},
   "outputs": [],
   "source": [
    "params = {\n",
    "    'max_depth' : range(10, 510, 100),\n",
    "    'n_estimators' : range(10, 310, 50),\n",
    "    'max_samples' : np.arange(0, 1, 0.1)}"
   ]
  },
  {
   "cell_type": "code",
   "execution_count": 38,
   "metadata": {},
   "outputs": [],
   "source": [
    "pipeline = RandomForestRegressor(random_state=19,\n",
    "                                n_jobs=-1)\n",
    "\n",
    "model_search = RandomizedSearchCV(\n",
    "    pipeline,\n",
    "    param_distributions=params,\n",
    "    n_iter=20,\n",
    "    n_jobs=-1,\n",
    "    cv=5,\n",
    "    verbose=1\n",
    ")"
   ]
  },
  {
   "cell_type": "code",
   "execution_count": 39,
   "metadata": {
    "scrolled": false
   },
   "outputs": [
    {
     "name": "stdout",
     "output_type": "stream",
     "text": [
      "Fitting 5 folds for each of 20 candidates, totalling 100 fits\n"
     ]
    },
    {
     "name": "stderr",
     "output_type": "stream",
     "text": [
      "[Parallel(n_jobs=-1)]: Using backend LokyBackend with 8 concurrent workers.\n",
      "[Parallel(n_jobs=-1)]: Done  52 tasks      | elapsed:    2.2s\n",
      "[Parallel(n_jobs=-1)]: Done 100 out of 100 | elapsed:    4.8s finished\n"
     ]
    },
    {
     "data": {
      "text/plain": [
       "RandomizedSearchCV(cv=5,\n",
       "                   estimator=RandomForestRegressor(n_jobs=-1, random_state=19),\n",
       "                   n_iter=20, n_jobs=-1,\n",
       "                   param_distributions={'max_depth': range(10, 510, 100),\n",
       "                                        'max_samples': array([0. , 0.1, 0.2, 0.3, 0.4, 0.5, 0.6, 0.7, 0.8, 0.9]),\n",
       "                                        'n_estimators': range(10, 310, 50)},\n",
       "                   verbose=1)"
      ]
     },
     "execution_count": 39,
     "metadata": {},
     "output_type": "execute_result"
    }
   ],
   "source": [
    "model_search.fit(X_train, y_train)"
   ]
  },
  {
   "cell_type": "code",
   "execution_count": 40,
   "metadata": {},
   "outputs": [
    {
     "data": {
      "text/plain": [
       "-0.3654150072771258"
      ]
     },
     "execution_count": 40,
     "metadata": {},
     "output_type": "execute_result"
    }
   ],
   "source": [
    "model_search.best_score_"
   ]
  },
  {
   "cell_type": "code",
   "execution_count": 41,
   "metadata": {},
   "outputs": [
    {
     "data": {
      "text/plain": [
       "{'n_estimators': 210, 'max_samples': 0.30000000000000004, 'max_depth': 310}"
      ]
     },
     "execution_count": 41,
     "metadata": {},
     "output_type": "execute_result"
    }
   ],
   "source": [
    "best = model_search.best_params_\n",
    "best"
   ]
  },
  {
   "cell_type": "code",
   "execution_count": 42,
   "metadata": {},
   "outputs": [
    {
     "data": {
      "text/plain": [
       "RandomForestRegressor(max_depth=110, max_samples=0.1, n_estimators=210,\n",
       "                      random_state=23)"
      ]
     },
     "execution_count": 42,
     "metadata": {},
     "output_type": "execute_result"
    }
   ],
   "source": [
    "model_rf = RandomForestRegressor(random_state=23,\n",
    "                                n_estimators=210,\n",
    "                                max_samples=0.1,\n",
    "                                max_depth=110) #n_estimators=100\n",
    "model_rf.fit(X_train, y_train)"
   ]
  },
  {
   "cell_type": "code",
   "execution_count": 43,
   "metadata": {},
   "outputs": [
    {
     "data": {
      "text/plain": [
       "array([106.84285714,  53.92857143, 146.45714286, 137.93809524,\n",
       "        53.25238095,  46.77619048,  64.31904762,  72.23809524,\n",
       "       190.56666667, 114.20952381,  62.06666667, 195.55238095,\n",
       "       166.47142857, 136.78095238, 143.15714286,  84.46666667,\n",
       "        42.98095238,  36.54285714,  65.91904762,  64.32380952])"
      ]
     },
     "execution_count": 43,
     "metadata": {},
     "output_type": "execute_result"
    }
   ],
   "source": [
    "model_rf.predict(X_val)"
   ]
  },
  {
   "cell_type": "code",
   "execution_count": 44,
   "metadata": {},
   "outputs": [
    {
     "data": {
      "text/plain": [
       "160.52547645252127"
      ]
     },
     "execution_count": 44,
     "metadata": {},
     "output_type": "execute_result"
    }
   ],
   "source": [
    "mean_absolute_error(y_val, model.predict(X_val))"
   ]
  },
  {
   "cell_type": "code",
   "execution_count": 45,
   "metadata": {
    "scrolled": true
   },
   "outputs": [
    {
     "data": {
      "text/plain": [
       "array([133.92380952, 167.64285714,  74.3047619 , 111.83809524,\n",
       "        95.59047619,  94.13809524, 108.68095238,  96.46666667,\n",
       "        30.04761905,  32.01428571,  71.31428571,  72.60952381,\n",
       "        76.23809524,  71.4       ,  92.49047619, 104.18095238,\n",
       "        75.04761905, 127.81904762, 159.13809524, 146.24285714])"
      ]
     },
     "execution_count": 45,
     "metadata": {},
     "output_type": "execute_result"
    }
   ],
   "source": [
    "model_rf.predict(X_test)"
   ]
  },
  {
   "cell_type": "code",
   "execution_count": 46,
   "metadata": {},
   "outputs": [
    {
     "data": {
      "text/plain": [
       "326.0508788074434"
      ]
     },
     "execution_count": 46,
     "metadata": {},
     "output_type": "execute_result"
    }
   ],
   "source": [
    "mean_absolute_error(y_test, model.predict(X_test))"
   ]
  },
  {
   "cell_type": "markdown",
   "metadata": {},
   "source": [
    "# NGNR\n",
    "## 2 year"
   ]
  },
  {
   "cell_type": "code",
   "execution_count": 47,
   "metadata": {},
   "outputs": [],
   "source": [
    "df_i['target'] = df_i.shift(-1)\n",
    "df_i['12_mo_prev'] = df_i['value'].shift(12)\n",
    "df_i['24_mo_prev'] = df_i['12_mo_prev'].shift(12)\n",
    "df_i['month'] = df_i.index.month"
   ]
  },
  {
   "cell_type": "code",
   "execution_count": 48,
   "metadata": {},
   "outputs": [],
   "source": [
    "df_I = df_i[['month', 'target', 'value', '12_mo_prev', '24_mo_prev']].dropna()"
   ]
  },
  {
   "cell_type": "markdown",
   "metadata": {},
   "source": [
    "# SPL|T"
   ]
  },
  {
   "cell_type": "code",
   "execution_count": 49,
   "metadata": {},
   "outputs": [],
   "source": [
    "target = 'target'\n",
    "y = df_I['target']\n",
    "X = df_I.drop(columns=target)"
   ]
  },
  {
   "cell_type": "code",
   "execution_count": 50,
   "metadata": {},
   "outputs": [
    {
     "name": "stdout",
     "output_type": "stream",
     "text": [
      "152.0\n",
      "171.0\n"
     ]
    }
   ],
   "source": [
    "print(len(X) * 0.8)\n",
    "print(len(X) * 0.9)"
   ]
  },
  {
   "cell_type": "code",
   "execution_count": 51,
   "metadata": {},
   "outputs": [],
   "source": [
    "cutV = 152\n",
    "cutT = 171\n",
    "X_train, y_train = X.iloc[:cutV], y.iloc[:cutV]\n",
    "X_val, y_val = X.iloc[cutV : cutT], y.iloc[cutV : cutT]\n",
    "X_test, y_test = X.iloc[cutT:], y.iloc[cutT:]\n",
    "\n",
    "assert len(X_train) + len(X_val) + len(X_test) == len(X)"
   ]
  },
  {
   "cell_type": "markdown",
   "metadata": {},
   "source": [
    "# B4SL|N"
   ]
  },
  {
   "cell_type": "code",
   "execution_count": 52,
   "metadata": {},
   "outputs": [
    {
     "name": "stdout",
     "output_type": "stream",
     "text": [
      "78.85526315789474\n"
     ]
    }
   ],
   "source": [
    "y_t_mean = y_train.mean()\n",
    "print(y_t_mean)"
   ]
  },
  {
   "cell_type": "code",
   "execution_count": 53,
   "metadata": {},
   "outputs": [
    {
     "name": "stdout",
     "output_type": "stream",
     "text": [
      "Baseline MAE: 62.480436288088654\n"
     ]
    }
   ],
   "source": [
    "y_pred = [y_t_mean] * len(y_train)\n",
    "\n",
    "print('Baseline MAE:', mean_absolute_error(y_train, y_pred))"
   ]
  },
  {
   "cell_type": "markdown",
   "metadata": {},
   "source": [
    "# Models"
   ]
  },
  {
   "cell_type": "code",
   "execution_count": 54,
   "metadata": {},
   "outputs": [],
   "source": [
    "model_boo = XGBRegressor(random_state=17) # default n_estimators=100\n",
    "model_boo.fit(X_train, y_train)\n",
    "\n",
    "model_rf = RandomForestRegressor(random_state=23) #n_estimators=100\n",
    "model_rf.fit(X_train, y_train)\n",
    "\n",
    "model_lr = LinearRegression()\n",
    "model_lr.fit(X_train, y_train);"
   ]
  },
  {
   "cell_type": "code",
   "execution_count": 55,
   "metadata": {},
   "outputs": [
    {
     "name": "stdout",
     "output_type": "stream",
     "text": [
      "<class 'xgboost.sklearn.XGBRegressor'>\n",
      "Training MAE: 0.021704466719376415\n",
      "Val MAE: 174.2873542622516\n",
      "\n",
      "<class 'sklearn.ensemble._forest.RandomForestRegressor'>\n",
      "Training MAE: 22.734013157894736\n",
      "Val MAE: 147.4215789473684\n",
      "\n",
      "<class 'sklearn.linear_model._base.LinearRegression'>\n",
      "Training MAE: 59.68743798765177\n",
      "Val MAE: 164.77862559072557\n",
      "\n"
     ]
    }
   ],
   "source": [
    "for model in [model_boo, model_rf, model_lr]:\n",
    "    print(type(model))\n",
    "    print('Training MAE:', mean_absolute_error(y_train, model.predict(X_train)))\n",
    "    print('Val MAE:', mean_absolute_error(y_val, model.predict(X_val)))\n",
    "    print()"
   ]
  },
  {
   "cell_type": "code",
   "execution_count": 56,
   "metadata": {},
   "outputs": [],
   "source": [
    "params = {\n",
    "    'max_depth' : range(380, 450, 5),\n",
    "    'n_estimators' : range(140, 200, 5),\n",
    "    'max_samples' : np.arange(0, 0.5, 0.15)}"
   ]
  },
  {
   "cell_type": "code",
   "execution_count": 57,
   "metadata": {},
   "outputs": [],
   "source": [
    "pipeline = RandomForestRegressor(random_state=19,\n",
    "                                n_jobs=-1)\n",
    "\n",
    "model_search = RandomizedSearchCV(\n",
    "    pipeline,\n",
    "    param_distributions=params,\n",
    "    n_iter=20,\n",
    "    n_jobs=-1,\n",
    "    cv=30,\n",
    "    verbose=1\n",
    ")"
   ]
  },
  {
   "cell_type": "code",
   "execution_count": 58,
   "metadata": {
    "scrolled": true
   },
   "outputs": [
    {
     "name": "stdout",
     "output_type": "stream",
     "text": [
      "Fitting 30 folds for each of 20 candidates, totalling 600 fits\n"
     ]
    },
    {
     "name": "stderr",
     "output_type": "stream",
     "text": [
      "[Parallel(n_jobs=-1)]: Using backend LokyBackend with 8 concurrent workers.\n",
      "[Parallel(n_jobs=-1)]: Done  34 tasks      | elapsed:    1.5s\n",
      "[Parallel(n_jobs=-1)]: Done 184 tasks      | elapsed:    9.1s\n",
      "[Parallel(n_jobs=-1)]: Done 498 tasks      | elapsed:   23.7s\n",
      "[Parallel(n_jobs=-1)]: Done 600 out of 600 | elapsed:   27.1s finished\n"
     ]
    },
    {
     "data": {
      "text/plain": [
       "RandomizedSearchCV(cv=30,\n",
       "                   estimator=RandomForestRegressor(n_jobs=-1, random_state=19),\n",
       "                   n_iter=20, n_jobs=-1,\n",
       "                   param_distributions={'max_depth': range(380, 450, 5),\n",
       "                                        'max_samples': array([0.  , 0.15, 0.3 , 0.45]),\n",
       "                                        'n_estimators': range(140, 200, 5)},\n",
       "                   verbose=1)"
      ]
     },
     "execution_count": 58,
     "metadata": {},
     "output_type": "execute_result"
    }
   ],
   "source": [
    "model_search.fit(X_train, y_train)"
   ]
  },
  {
   "cell_type": "code",
   "execution_count": 59,
   "metadata": {},
   "outputs": [
    {
     "data": {
      "text/plain": [
       "-2.308035596885973"
      ]
     },
     "execution_count": 59,
     "metadata": {},
     "output_type": "execute_result"
    }
   ],
   "source": [
    "model_search.best_score_"
   ]
  },
  {
   "cell_type": "code",
   "execution_count": 60,
   "metadata": {},
   "outputs": [
    {
     "data": {
      "text/plain": [
       "{'n_estimators': 175, 'max_samples': 0.3, 'max_depth': 420}"
      ]
     },
     "execution_count": 60,
     "metadata": {},
     "output_type": "execute_result"
    }
   ],
   "source": [
    "best = model_search.best_params_\n",
    "best"
   ]
  },
  {
   "cell_type": "code",
   "execution_count": 61,
   "metadata": {},
   "outputs": [
    {
     "data": {
      "text/plain": [
       "RandomForestRegressor(max_depth=420, max_samples=0.15, n_estimators=160,\n",
       "                      random_state=5)"
      ]
     },
     "execution_count": 61,
     "metadata": {},
     "output_type": "execute_result"
    }
   ],
   "source": [
    "model_rf = RandomForestRegressor(random_state=5,\n",
    "                                n_estimators=160,\n",
    "                                max_samples=0.15,\n",
    "                                max_depth=420) #n_estimators=100\n",
    "model_rf.fit(X_train, y_train)"
   ]
  },
  {
   "cell_type": "code",
   "execution_count": 62,
   "metadata": {},
   "outputs": [
    {
     "data": {
      "text/plain": [
       "array([110.03125, 165.31875,  58.35625,  64.05   ,  51.5125 ,  75.30625,\n",
       "       184.49375,  92.2875 ,  55.35625, 172.8125 , 159.33125, 131.25   ,\n",
       "       164.68125,  92.7875 ,  48.75625,  46.45   ,  45.6375 ,  53.325  ,\n",
       "       147.63125])"
      ]
     },
     "execution_count": 62,
     "metadata": {},
     "output_type": "execute_result"
    }
   ],
   "source": [
    "model_rf.predict(X_val)"
   ]
  },
  {
   "cell_type": "code",
   "execution_count": 63,
   "metadata": {},
   "outputs": [
    {
     "data": {
      "text/plain": [
       "164.77862559072557"
      ]
     },
     "execution_count": 63,
     "metadata": {},
     "output_type": "execute_result"
    }
   ],
   "source": [
    "mean_absolute_error(y_val, model.predict(X_val))"
   ]
  },
  {
   "cell_type": "code",
   "execution_count": 64,
   "metadata": {},
   "outputs": [
    {
     "data": {
      "text/plain": [
       "array([ 98.6875 ,  69.59375, 131.7625 , 104.65   ,  64.44375, 141.975  ,\n",
       "       112.16875,  40.3875 ,  33.6    ,  68.00625,  51.825  ,  74.525  ,\n",
       "        88.06875, 103.8    , 137.4125 ,  84.7875 , 117.7375 , 156.10625,\n",
       "       103.8    ])"
      ]
     },
     "execution_count": 64,
     "metadata": {},
     "output_type": "execute_result"
    }
   ],
   "source": [
    "model_rf.predict(X_test)"
   ]
  },
  {
   "cell_type": "code",
   "execution_count": 65,
   "metadata": {},
   "outputs": [
    {
     "data": {
      "text/plain": [
       "342.4653138560925"
      ]
     },
     "execution_count": 65,
     "metadata": {},
     "output_type": "execute_result"
    }
   ],
   "source": [
    "mean_absolute_error(y_test, model.predict(X_test))"
   ]
  }
 ],
 "metadata": {
  "kernelspec": {
   "display_name": "Python 3",
   "language": "python",
   "name": "python3"
  },
  "language_info": {
   "codemirror_mode": {
    "name": "ipython",
    "version": 3
   },
   "file_extension": ".py",
   "mimetype": "text/x-python",
   "name": "python",
   "nbconvert_exporter": "python",
   "pygments_lexer": "ipython3",
   "version": "3.8.6"
  }
 },
 "nbformat": 4,
 "nbformat_minor": 4
}
